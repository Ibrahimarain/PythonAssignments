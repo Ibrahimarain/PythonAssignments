{
 "cells": [
  {
   "cell_type": "code",
   "execution_count": 11,
   "metadata": {},
   "outputs": [
    {
     "name": "stdout",
     "output_type": "stream",
     "text": [
      "Details about Person I know are: ('Farooq', 'Awan', '26', 'Rawalpindi')\n",
      "{'first_name': 'Farooq', 'last_name': 'Awan', 'age': '26', 'city': 'Rawalpindi', 'qualification': 'Graduation'}\n",
      "{'first_name': 'Farooq', 'last_name': 'Awan', 'age': '26', 'city': 'Rawalpindi'}\n"
     ]
    }
   ],
   "source": [
    "personIknow = {\"first_name\":\"Farooq\",\"last_name\":\"Awan\",\"age\":\"26\",\"city\":\"Rawalpindi\"}\n",
    "print(f\"Details about Person I know are: {str(personIknow['first_name']),str(personIknow['last_name']),str(personIknow['age']),str(personIknow['city'])}\")\n",
    "personIknow[\"qualification\"] = \"\"\n",
    "personIknow[\"qualification\"] = \"Graduation\"\n",
    " personIknow.__delitem__(\"qualification\")\n",
    " "
   ]
  },
  {
   "cell_type": "code",
   "execution_count": null,
   "metadata": {},
   "outputs": [],
   "source": [
    "12\n"
   ]
  },
  {
   "cell_type": "code",
   "execution_count": null,
   "metadata": {},
   "outputs": [],
   "source": []
  },
  {
   "cell_type": "code",
   "execution_count": null,
   "metadata": {},
   "outputs": [],
   "source": []
  }
 ],
 "metadata": {
  "kernelspec": {
   "display_name": "Python 3",
   "language": "python",
   "name": "python3"
  },
  "language_info": {
   "codemirror_mode": {
    "name": "ipython",
    "version": 3
   },
   "file_extension": ".py",
   "mimetype": "text/x-python",
   "name": "python",
   "nbconvert_exporter": "python",
   "pygments_lexer": "ipython3",
   "version": "3.7.4"
  }
 },
 "nbformat": 4,
 "nbformat_minor": 2
}
