{
 "cells": [
  {
   "cell_type": "code",
   "execution_count": 5,
   "metadata": {},
   "outputs": [
    {
     "name": "stdout",
     "output_type": "stream",
     "text": [
      "Please enter number between 1 and 30 : 1\n",
      "Too low\n",
      "Please enter number between 1 and 30 : 20\n",
      "Too low\n",
      "Please enter number between 1 and 30 : 30\n",
      "Too high\n",
      "Please enter number between 1 and 30 : 25\n",
      "You win, and you guess this number 4 times\n"
     ]
    }
   ],
   "source": [
    "import random\n",
    "\n",
    "\n",
    "winning_number = random.randint(1,30)\n",
    "guess = 1\n",
    "\n",
    "while True:\n",
    "    number = int(input(\"Please enter number between 1 and 30 : \"))\n",
    "    if number == winning_number:\n",
    "        print(f\"You win, and you guess this number {guess} times\")\n",
    "        break\n",
    "    else:\n",
    "        if number < winning_number:\n",
    "            print(\"Too low\")\n",
    "            # guess+=1\n",
    "            # number  =  int(input(\"Please enter number between 1 and 100 : \"))\n",
    "        else:\n",
    "            print(\"Too high\")\n",
    "        guess += 1\n",
    "        continue\n",
    "        #number  =  int(input(\"Please enter number between 1 and 100 : \"))\n"
   ]
  },
  {
   "cell_type": "code",
   "execution_count": 4,
   "metadata": {},
   "outputs": [
    {
     "data": {
      "text/plain": [
       "12"
      ]
     },
     "execution_count": 4,
     "metadata": {},
     "output_type": "execute_result"
    }
   ],
   "source": [
    "12\n"
   ]
  },
  {
   "cell_type": "code",
   "execution_count": null,
   "metadata": {},
   "outputs": [],
   "source": []
  },
  {
   "cell_type": "code",
   "execution_count": null,
   "metadata": {},
   "outputs": [],
   "source": []
  }
 ],
 "metadata": {
  "kernelspec": {
   "display_name": "Python 3",
   "language": "python",
   "name": "python3"
  },
  "language_info": {
   "codemirror_mode": {
    "name": "ipython",
    "version": 3
   },
   "file_extension": ".py",
   "mimetype": "text/x-python",
   "name": "python",
   "nbconvert_exporter": "python",
   "pygments_lexer": "ipython3",
   "version": "3.7.4"
  }
 },
 "nbformat": 4,
 "nbformat_minor": 2
}
