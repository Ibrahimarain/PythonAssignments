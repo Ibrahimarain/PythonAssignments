{
 "cells": [
  {
   "cell_type": "code",
   "execution_count": 10,
   "metadata": {},
   "outputs": [
    {
     "name": "stdout",
     "output_type": "stream",
     "text": [
      "Karachi:{'Country': 'Pakistan', 'Population': '15 million', 'Fact': 'Largest city of Pakistan'}\n",
      "Hyderabad:{'Country': 'Pakistan', 'Population': '7 million', 'Fact': '2nd biggest city of Provice Sindh'}\n",
      "Islamabad{'Country': 'Pakistan', 'Population': '1.05 million', 'Fact': 'Capital of Pakistan'}\n"
     ]
    }
   ],
   "source": [
    "cities = {\"Karachi\":{\"Country\":\"Pakistan\",\"Population\":\"15 million\",\"Fact\":\"Largest city of Pakistan\"},\n",
    "          \"Hyderabad\":{\"Country\":\"Pakistan\",\"Population\":\"7 million\",\"Fact\":\"2nd biggest city of Provice Sindh\"},\n",
    "          \"Islamabad\":{\"Country\":\"Pakistan\",\"Population\":\"1.05 million\",\"Fact\":\"Capital of Pakistan\"}}\n",
    "\n",
    "print(f\"Karachi:{cities['Karachi']}\")\n",
    "print(f\"Hyderabad:{cities['Hyderabad']}\")\n",
    "print(f\"Islamabad{cities['Islamabad']}\")"
   ]
  },
  {
   "cell_type": "code",
   "execution_count": null,
   "metadata": {},
   "outputs": [],
   "source": [
    "12\n"
   ]
  },
  {
   "cell_type": "code",
   "execution_count": null,
   "metadata": {},
   "outputs": [],
   "source": []
  },
  {
   "cell_type": "code",
   "execution_count": null,
   "metadata": {},
   "outputs": [],
   "source": []
  }
 ],
 "metadata": {
  "kernelspec": {
   "display_name": "Python 3",
   "language": "python",
   "name": "python3"
  },
  "language_info": {
   "codemirror_mode": {
    "name": "ipython",
    "version": 3
   },
   "file_extension": ".py",
   "mimetype": "text/x-python",
   "name": "python",
   "nbconvert_exporter": "python",
   "pygments_lexer": "ipython3",
   "version": "3.7.4"
  }
 },
 "nbformat": 4,
 "nbformat_minor": 2
}
