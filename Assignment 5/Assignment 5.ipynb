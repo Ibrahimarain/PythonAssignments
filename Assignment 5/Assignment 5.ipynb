{
 "cells": [
  {
   "cell_type": "code",
   "execution_count": 5,
   "metadata": {},
   "outputs": [
    {
     "name": "stdout",
     "output_type": "stream",
     "text": [
      "The factorial of 8 is:40320\n",
      "Total upperCase letters in string are: 5\n",
      "Total Lower Case letters in string are:16\n",
      "Even Numbers in list:\n",
      "2\n",
      "4\n",
      "6\n",
      "8\n",
      "10\n",
      "madam is Palindrome\n",
      "12 is not a prime number\n",
      "Items List:\n",
      "SafeGuard Soap\n",
      "LifeBoy Shampp\n",
      "EveryDay\n",
      "Nido Milk\n"
     ]
    }
   ],
   "source": [
    "\n",
    "def calculateFactorial(num):\n",
    "    number2 = 1\n",
    "    for x in range(1,num+1):\n",
    "        number2 = number2*x\n",
    "    print(f\"The factorial of {num} is:{number2}\")\n",
    "\n",
    "def calculateUpperLowerCase(string):\n",
    "    counterUpper = 0\n",
    "    counterLower = 0\n",
    "    for x in string:\n",
    "        if str(x).isupper():\n",
    "            counterUpper+=1\n",
    "        elif str(x).islower():\n",
    "            counterLower+=1\n",
    "    print(f\"Total upperCase letters in string are: {counterUpper}\\nTotal Lower Case letters in string are:{counterLower}\")\n",
    "\n",
    "def printEvenFromList(list):\n",
    "    print(\"Even Numbers in list:\")\n",
    "    for x in list:\n",
    "        if x%2 == 0:\n",
    "            print(x)\n",
    "\n",
    "def checkPalindrome(string):\n",
    "    index = len(string)\n",
    "    stringRevers = \"\"\n",
    "    for x in range(index,0,-1):\n",
    "        stringRevers+=string[x-1]\n",
    "    if string.lower() == stringRevers.lower():\n",
    "        print(f\"{string} is Palindrome\")\n",
    "    else:\n",
    "        print(f\"{string} is not a Palindrome\")\n",
    "\n",
    "def checkIsPrime(number):\n",
    "    for x in range(2,number):\n",
    "       if number%x == 0:\n",
    "            print(number, \"is not a prime number\")\n",
    "            break\n",
    "    else:\n",
    "        print(number, \"is a prime number\")\n",
    "\n",
    "def printShoppingItems(*items):\n",
    "    print(\"Items List:\")\n",
    "    for item in items:\n",
    "        print(item)\n",
    "\n",
    "\n",
    "\n",
    "calculateFactorial(8)\n",
    "calculateUpperLowerCase(\"This Is Camel Case String\")\n",
    "printEvenFromList({1,2,3,4,6,8,10,5,9})\n",
    "checkPalindrome(\"madam\")\n",
    "checkIsPrime(12)\n",
    "printShoppingItems(\"SafeGuard Soap\",\"LifeBoy Shampp\",\"EveryDay\",\"Nido Milk\")\n"
   ]
  },
  {
   "cell_type": "code",
   "execution_count": null,
   "metadata": {},
   "outputs": [],
   "source": []
  }
 ],
 "metadata": {
  "kernelspec": {
   "display_name": "Python 3",
   "language": "python",
   "name": "python3"
  },
  "language_info": {
   "codemirror_mode": {
    "name": "ipython",
    "version": 3
   },
   "file_extension": ".py",
   "mimetype": "text/x-python",
   "name": "python",
   "nbconvert_exporter": "python",
   "pygments_lexer": "ipython3",
   "version": "3.6.5"
  }
 },
 "nbformat": 4,
 "nbformat_minor": 2
}
